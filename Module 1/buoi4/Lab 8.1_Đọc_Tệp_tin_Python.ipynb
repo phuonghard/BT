{
 "cells": [
  {
   "cell_type": "markdown",
   "metadata": {
    "id": "_KhoOa8Ge7Pc"
   },
   "source": [
    "#Lab 9.1 Đọc Tệp tin Python\n",
    "\n",
    "Thời lượng ước tính: **40** phút\n",
    "\n",
    "## Mục tiêu\n",
    "\n",
    "Sau khi hoàn thành lab này, bạn sẽ có thể:\n",
    "\n",
    "-   Đọc tệp tin văn bản sử dụng thư viện Python\n"
   ]
  },
  {
   "cell_type": "markdown",
   "metadata": {
    "id": "CA6NvLZ6e7Pp"
   },
   "source": [
    "<h2>Mục lục</h2>\n",
    "<div class=\"alert alert-block alert-info\" style=\"margin-top: 20px\">\n",
    "    <ul>\n",
    "        <li><a href=\"download\">Tải dữ liệu</a></li>\n",
    "        <li><a href=\"read\">Đọc tệp tin văn bản</a></li>\n",
    "        <li><a href=\"better\">Cách tốt hơn để mở một tệp tin</a></li>\n",
    "    </ul>\n",
    "\n",
    "</div>\n",
    "\n",
    "<hr>\n"
   ]
  },
  {
   "cell_type": "markdown",
   "metadata": {
    "id": "qpUWLOIWe7Pq"
   },
   "source": [
    "<h2 id=\"download\">Tải Dữ liệu </h2>\n"
   ]
  },
  {
   "cell_type": "code",
   "execution_count": 24,
   "metadata": {
    "colab": {
     "base_uri": "https://localhost:8080/"
    },
    "executionInfo": {
     "elapsed": 7,
     "status": "ok",
     "timestamp": 1713449950639,
     "user": {
      "displayName": "Thuong Nguyen",
      "userId": "15761428704342795780"
     },
     "user_tz": -420
    },
    "id": "hSDPpQy2e7Pq",
    "outputId": "2b245f78-f02a-4be9-dc23-8062911c6a72"
   },
   "outputs": [
    {
     "ename": "SyntaxError",
     "evalue": "invalid syntax (413763886.py, line 2)",
     "output_type": "error",
     "traceback": [
      "\u001b[1;36m  Cell \u001b[1;32mIn[24], line 2\u001b[1;36m\u001b[0m\n\u001b[1;33m    url = 'https://cfdata.s3.us.cloud-object-storage.appdomain.cloud/IBMDeveloperSkillsNetwork-PY0101EN-SkillsNetwork/labs/Module%204/data/example1.txt'-courses-\u001b[0m\n\u001b[1;37m                                                                                                                                                                 ^\u001b[0m\n\u001b[1;31mSyntaxError\u001b[0m\u001b[1;31m:\u001b[0m invalid syntax\n"
     ]
    }
   ],
   "source": [
    "import urllib.request\n",
    "url = 'https://cfdata.s3.us.cloud-object-storage.appdomain.cloud/IBMDeveloperSkillsNetwork-PY0101EN-SkillsNetwork/labs/Module%204/data/example1.txt'-courses-\n",
    "#url = 'data:image/jpeg;base64,/9j/4AAQSkZJRgABAQAAAQABAAD/2wCEAAkGBxISEhUSEhIVFhUXFxUXFxUVFxYXFRcXGBUXFxcXFxUYHSggGBolGxUWITEhJSkrLi4uFx8zODMtNygtLisBCgoKDg0NFQ8PFS4ZFR0rLSsrLSstKy0rKystLSstKysrLS0rLisrKy0rKysrLSstKystKy0tLSsrKystLSs3Lf/AABEIALEBHQMBIgACEQEDEQH/xAAbAAADAQEBAQEAAAAAAAAAAAACAwQBAAUHBv/EAEMQAAEDAgIHBAcFBgYCAwAAAAEAAhEDIRIxBAUiQVFh8DJxgZETUlOSobHRFBUjQsEzYnKTotIGQ4LC4fFj4lSy8v/EABcBAQEBAQAAAAAAAAAAAAAAAAABAgP/xAAiEQEAAQMDBAMAAAAAAAAAAAAAEQECIQNRoRIjYWITQVL/2gAMAwEAAhEDEQA/APQq1qjXbLMTdmwBDr4pg5GIG4Zph0upAiiZLcV5gG9jbOwtbNT6Tpr2PDQ2RAOTreOXgL27pwa0qjKnJgnJ1wA6w5zG+98s1umnWuWpejT0ipjwmnaTt3ADQTE24Djv4XWaNpdWWh9EicyCYbbKCOI7vkkU9bPn9laQMyCLuEmRBFhlx3o6Wtnkt/DgEOEmTDtnCTYGCSfInvfFcSNmsK1p0d35ie3ltwOxM2aPHLJWUNIcXhppuAIBxGbS1pg2zlxGYyULddOBvTybfMS7CDaxtM/DfZO++SD2QQRIuQRcgg2uTFu8TAki/Fckls12bYmN7IJh5N7W7Pf5eKoGuWwIAna2cV9nd3kAx3QsZr0+oOW2dxIucMbp7uNgWv122xAa4YWyA67XGZa6AcgL94te3Tp9eWZCNcNAJIbE2wuBkYAe8mSdwsONlx17TvsmwBO03e4C175g9yI69bMBniSBe0iYixMTytKYzXLCLsgyBBImCCb25D3m3vZ0+vKBo68pmdkiBNy3LFhvfZiLzlfghof4hpmJaRJAN29rZnfkMfw5q3V+lsrAkMiA3gQZG7yVhot9UeQWa1spitvKvObrdmIgCzTUBOITLBNgMwbAGcyAmU9bUzMTYtGbYOIGCCTEW+I4hW/Z2eo3yC37Kz1Ge6PoszZsZQM1zTIEhwJ3WziTcm0c4ixMArqmuqbcMtdJLQbRE0y/fBIyFhebTBXoHQ6fs2e436LfsNL2VP3G/RWbNkyjo64puyDzcA7MZuwggG5Eg5A+az74pSe1YTMfvFuWeYHvDnFx0Cl7Kn7je/hxWHVtL2VP3Rz+p8yk6e1TKM66oAkFxtY7JN5jcL78k2prKkHFhcZBIgNcbjdIHOO9O+7KPsmb93FwcfiAfBCdVUczSbv+IAPwA8k7fkynZreicnGDEHC4h0zlA4gjmcphd96ULbecQMLpMzFok5fEcU77rozPoxMzm6ZteZ5DyQnVNGZwXEXxOtGV53JOn5Msq6bSBgu55GMg7PuIPdmlv0+iPzA7OKwm0tF4/iCJ2qKJ/Id0nE/dlv5JQ1NRBkNcLEdt+Rz381nt+TJJ1ro5nbFjGRzxNbGV7vb5ohpVE/maOTtl2cXa6CFztS0c4OczJN+U8kp2pKX7xnOSDOdySLnaN81rt71MiNaifzM8xvyjjmk1atEWLmeEH5c7Lnakp+s/IjNsXsbYd4sZzCndqClhwS/DfZ2IuADIw3sI8+JUjT3qZHUfR2iSzZu4mIAuZnuBPghNOn+7vG7dM/I+SW/UjM8b+c4DNiL7P7xU7tQsvDjeJBjduymEjT3MqH0WDcAp6nowYLmg8MUHjlKU7UrfWyiLcCCN97jfnkbWWu0B19vMz2cjfLa5nOZ3ysxZu0JzGet/VynjwSzTG4n3ikP1YYjEIgjscabad9rg0HvCV92kOxYxOJzrAjtFziO1lJB/0jnLpt/Sye+l+87zSiw+sfgqXpJXJXq06gxBt5IJFrQCAb8doIKOtqUwXRfDeInhIJvy3b4TGMBIMXGR8Qf0HkmnRmGJaDExbKc471RzdZUfaD4jeR/tPkU06wpAkF4BGKZm2Ew6Tlb9RxCCnq+lb8NtsuV5twTqmg03BwLRtTMWNyCT3yAfBUa7WVIAk1BaZzJsC4iBeQASRuTjrCkHFheARnMjdMAnMxBslt1dSvsC8zc/mBa7fmQTJzKdV0Cm6S5kzcyTnhwznnG9EGdPpghpqNktxZ2w7N5/1BHT02mQXCo2AATfIHKZylJq6rpP7TJsG9p4ECNwOey2+dgi+6qO0MHbDQ7afk27RnaOSqGt06lia0VGkucWgAgnE0SRbgEB1nQAn0jM4sQZ2g2QBmJgSipavptc1wbBbP5nb7XEwc96W3U1AfkvAbJc4nCLgSSkh79OotBd6RkCZggm0TYXtI8wmM0umTAqMmYjEJnKInOVNV1NQcbsmeZ4R8h8+K37mokAEOMYM3uJ2JwySZPaJvmSoKTplIR+I25AEEGZkDLdY35Hgmisz127vzDeLfNSHU9GTY3DgRJiHTPjtHu3LjqWiQQWkzjJM3Je0NcfIbkRd6VskYhIiRNxJgSN0kHyRscCSAQYzg8gfkQfFR6Tqum/0mKfxcIdBH5XFwi1rkrKOp6banpGyDic+NmJcALWkCALAqovc4C5IFwPEmAO+bLHPABJIAF3EmwtN+FrrzDqCngbTxPhpcQdmdotcc22u0XHPihb/h2kCDLoBmNmHE0209q17NGe8IPXwoXuAuYAsL8zA85Xlt/w/TBnE4iKdjEbAi4i5N5P7xRUdTBjS0Pc6SCcZmRgcwzuyeYt+VvBB6LCCJBBB3i48CuIXmVNUElv4pwtAAF7kPe4g3/ZkPALcyGi9kB1JYfjPJGK7iTnEGxFxcyPWKI9M9ckDglaBohpgguxEkGe5jGSeZwTymFQVFJIQOCcUshFIe1Kc1UkJTggmcEpwVLwkvCgmcElwVLwkuCKncEh6peEh4UVM9KIT3hJcqPSoSRM8fnCqY08SvE0vQ31GtwOEtL+0SLk2eC0doQYERtHJENX6Z/8gZEcJ2GgEnCc3AuPCbFFfoGtPFNYw8V4FHVulAyK4klsySZ7RObTAxOOzvAzCobq/SDTptfUD3tqMcX43MOENaXAYWw4l4cLiMLuKD3GsPH4JrWHj8F52kaJVc4Fr4GFkiT2muMmwuMLncJLW5Qu0LR9KDmekqtLQNsACSZJsYys0dzncAqj1GtPH4Iw08V5+h0dIDgalQEbwIvsmb4R+fCRyN5StG0TSm4PxZvTL8UONmw6DhFjDSe8xG8j1w08UWE8f+l5FShpeNxY8QSQJLYDQ58QC20tcL3MtGYyu1aysMXpTIkYOyTAmZLQMxhPeTuhBVB4rQCihaERgBRAHktCIIgRPJbe6Jb9URl+S66KFyKC/Dmuv1wRf9rlUBJ4f8LCTw6+qMrD19UQsk8FhJ4IysKi0KcTwS3HkU4oCo0Q48iluPIp5S3IJ3u5FJc7kfIqpyS8IJXO7/IpLnKp4SHIqZ7kio4KtwSKgUVI9wSHOHFVPSHKitoqDs4YzvM37lQx1bgz+pLc8gSBN225EgHLksr6a9rgGsxAhpHa3mDJi1uhaSrGurerT83JrX1vUZ7zvoo6OsySB6Kpd0TFhcXdw7Q6BKNmtnAw6i67y0FtxaASSYi5txQXNqVvZs98/wBqY2pW9mz3z/aojrUtxYqbrF12x2Q/ADfMmZT6usnBrXYBds3dkcbGkOIFoxzPIoioVq3smfzD/YjFat7Jv8w/2KV+uGNdgwPJGEmALBzZ4zZc3XbQGOLSA8kCCDcPLQSQYyvYqosFat7Jv8z/ANUQr1fZD3//AFSNF1qKjcTWGMTGwSAYe4NJtORnyXU9cNLA4tN+BaR+SJJgAzUaDwM8JQUfaKnsf6x9EX2mp7E+81T09eUXENGKS5rLtiC4kNJncSCO8FGdasl0NcQ1r3ONrYC0QBN5xcskZP8AtT/Yv82fVb9rd7Gp/R/ck0Nc0nSDIcGl7gQdkBuK5H7twtZrujMHEDLgRhMiA8mY5MPmEDvth9lU/o/uRfbf/FVzG5v9yz7zZLAASH4IeBs7d2yTl+XxcAuOt6Pr72jJwzymRvFxxAJEwg37d/46m/8AKPqu+3D1KnDseaD73o3hxkYrYXA7MOfmPyg38s7K4/X6IJPt7fVqcew7w3LDp7OD/wCW/wAdyr6/QLkEf3gzg/8Al1PLsoTrGn+//LqefZVqwoIjrGn+/wDy6n9qE6xp8Xe5U/tVpQFBEdY0/WPuP/tQnWNL1v6XfRWFAQoqJ2saXrjyP0QHWNL2jfNWOASnAcEVI7WFL2jPeCW7TqXtWe8FU5g4BKfTbwCCV2mU/aM95v1SnaSz12e8PqqH0W+qPJIfo7PVHkgU6s31m+YSX1G+sPMJj9FZ6jfIKepolP1G+QUULzzSSF1TQqfqN8gp3aFT9RvkrQexSKppuUQfAJiYEwI/WyI6a1oaTO0MW4QNkXk8XARzUV6bHJzCvLbrKjfbBLWlxABJgZ2jvtyKfR1lTcYDwDtWMg7Nzbuv4IPSBCNrl541hSgHGL5Z7+Uc06nrGif8xvnzj5oi9oTGqJmsKRE4xEgcc5ieExmtbrSjf8RvMza4kX5j4qovC2OXW9THTaYcGF4xExEyZwl1xuGFpK7R9PpPjDUaZMC4k7xAQVEDgtDBewvM2znj3qYafSP+YztYe0O1IEDjdwHeUx2l0xh2xtZEXm4Agid5hVDxSbnhbMcBkbEd1h5IRoVLL0VPh2G8DG7mfNF6ZonaFs7jhJHfF13p232m2Em4mJPDuPkg4aLTkHA22GLCBhnDhG6J3foEunq6iAB6JkCM2g+MnfbNUg7/AI+K7r5oid+gUjnTbvNhxBxeYJB7yqD113ld18AFxPXmfog7r9PqsPXXdHmu668AfNceuu/5IMnrryXFY3rrrNcUGOSyjKByigcUDkRQOQA4pbkbkpyKFxS3FG4pTioFvSXpr0l6BTkl6a5JqIpFRIcnPSXKisNBBBAINiDcEcCE4UGEAFrTGUgWPLyCTTR09JZAdNiYFjne0Z7j5KKpZo7PVbcEGwuDmPifNOp6OwGcLZymONkhmkMttC5gXFzEx5JtDSGuu1wI5EFA6joVJtwxoy3cEf2CkRhNNscPGfmhbUHEeYTadUGYIMZweU/JEaNCpw4YRDsMj+EBrRbdA+K4aqoER6MRwl3wk2NhlwTDUAiSLkAcydw+PQTmFUazRmB2PDtZzJ9XCYExl8uSXS1ZSBa4UxLIwmXEgAzFzxMp7Sia68b+Hja3egmbqijIOEyAANt9gIwxe1mgeCNuqqWEMAOGHCJNw5xfc55l3vHlFIN438O/L4gpg68f+URG/VFJznOcCS4mbkWLsWG27FdE3U1IEFoLSCwgjiwYWm/Rkqwnwnwuch5ogevEH9UlA0aQY1rRk1oAngAAPkmdf/ZYOvIouPj/ALlUceuvBZ15f/lER15/VD18j9UR3XXl8UJ6667S2OuuYHmsPX1+Xkis66+PmFhPXXd5BcT1w6/2oT114f0niornFAVpPXW/9SeCAnrrqO9BhKW4ondddfBLcVFA4pbiicluKoBxS3FE4pTlBjikvRuKU8oFuKS9MckvKKS8pLkx6S4oLKRR0tEYABEgOxCb7V737yl0cgnh4EyQIzvl3rSuo6vptLSGwW5XPEm/G5R0dWUgWuDbtiDPDJNYmNKgR90UcoMQBE2gCBZE7UlEmYOcxNpPKP8ArdCqaUbSiBGgU8YqRcZZQNnDw4frGZQDUlGANoC2RjIRcgCdxvvCpBTQURM7VFMhrcT4aXkAEfnzBtlu8UxmqaYxAOdtYPVyYSQMri+RmIEZKlrkbT111dFR/crb/iVBNiQRkCOWcgGczJ4lMOp2GYe8TigA2GIHh5eAVYPXXeEYd18f0KgS3VzfSNeXuOEtIBiJa0NB8iT3udxStH1OGFpbUeMJaSJs7C0gSJ4NV09eBH6BFP6/r9UR551KcRPp39oOi9y0iCb3P4Yn9MlrdSOAMaRUxHN8unNsWxbgIHeec+li695bi68QVWYRUtWua5rhXqQC0kEuIdDbzJtJnlfuhf3W8B2GoA52AEjFMNcMRxBwMls2EXcZnNelPXiR+qyevgf0QeadWVDM6Q+55znBmDy3QL2ATNE0R7HEufiEOiZmHFpDbk2GF4H8fnZi677H4gLC7rx+vzRWk9deB8SgJ6PXd5OXE9fp8x5ICeuvA+LkGk9HrraQE9ddeSwno9cvg7ihceuvH48VFc4pTitcUt5QY5yU4onOSnFUY4pRKJxS3FAJKU8onFKcVADikvKY4pDyilvKQ4o3lKJVRdRXM0Nu3BIxnEd+0Igie4Laae1VUp1S2LOcMuBmI3cwMssuATqmq2uJOJwJzIME7Ibc75ACpajaopDtWgmcbhbcbyWtbM7+w094WjVV/wBrUiIiT5zOc3VYKMFBK3VhxT6V5GIENcSQIiN/L4nvFH2Iy4h5GJwNgRliN4IJ7X9Lc00FGHIiVurX7q7riDnMDgcUg8++I3Op6A4B34zzLS0SSYlpBNznJBn92FQ1yNruuuroJRoDwIbUwTULzE2BB2Re9yM7bOW5EzV1S013eGITPHak58VW09dd5Rh3XXegXoGjvYTjfikNve5xEyfB4H+lWB3XglB3XXciB68AiHA9eJXYuvBLB68VoP6IDnrvuumeuP8Ayg68lx6+YQFiWF3XzQz5fVDKAyeuvNAT114juKyUBKg0u667vgeKAnrrrJcT115oCUHEpbnLnFLcVRjiluK1xQOKIFxSyUTiluKKFxSnFE4pTioAeUh5THlIeVaBbilEo3lLKD0qZ68Fw0YYy+c24SOKKmLpjQq0jZqy2H0rgIIgSBcGMjume/M8HVdXuLnObVc0ujKbQIjPKb+apRAoiatoD3GRWIEh0QSJAbwcIEtm3EomaBUwuHp3GS0gkdmDJyO9VgogVFJbo9SGg1TILp5jFbxwiPElYNDrQI0g7vyjcd05WVIKLEiJ62jViSW1oF4EZHEY7wBaE11CscMVo2YOyJLr7QO6+HyKYHIw5UJp6PXayBWBdLbuE7zi3bxHxRNo6TA/GbM5wMpJiMOfZv4RvTw7rrkmNeoicaLpGIfjiBIyGRI3YYnO545byykzSYIL2g4xBtBbBmwba8WNzBuJtQ16YHqiL7NpU/tmxEGQJ33AwwM+cxOVk6tSrYnua7dUwgusSWbBDcs4ueBteVSHIg5BF6LSj/mMHC3L+HzO/cBkioMrB4xuDm8omMLpkQL4sBHCD4141hcgMlCShlCXKAi5CShLkBciCJQFywuQFyDnOQEri5ASqOJSyVpKBxUULigcVrilucgFxSXla5yS5ygx5SHuROKU5WgFxQFGUoqj12Z+Cx9CXtfJBaCI3EGPoupTac78t9vgmo0jOgR2ajm3cbcS4nxzi637CbRUcCBmJzlxmCT62+ZgKsrpRCPsr4EVjIAEm4Nzcic7j3Vh0OpYiu6ed90Wv3+aplbKBQ0ephj0xmbnfEAR8/NF9lqDs1YFrETk1rd/cT4pwKMOQS+g0j2wF77I55W5jyTH0K8DDVAMNBsCCZknLM2VAciDkE32euWOBqjESMJFgBJxbpuCB4eKayjXhwNQG7cMbBgZguAsTxCcHdfomNcgmbQ0gQBVbhkySNqCchs7rwmUaOkwQ6ow2eAQLgkQw5bjmqGuRtciJm0dKAgVWG+ZBJiRx5YuOQuZJTTSrFzNvL0ZdeGmC70ggDm2O4c5oD1oeqiPDpZHapjKJ3cZgdCZnNaGaRiu5pbiGUAxLJ3ZQH+flbiQ4kDHlC4oHFCXKfQIlASsLkBcg0oSUMoSVRpKElCXIS5RWuKWXLiUtzlBzilOctcUtxUUDikvKN5SiVYQLktxREpbkAkoSVpQlFelomONvOeWUck2tTDoB3EHxBkLztT6RpDsXp2NbBGEtBEi4Mgk8vNenKqpq2g4i443DEZMWnZwxM5b+9C/QSZ/FfB3SeckEHmrJWYlUSVNDeST6ZzRIgCcsMceMm3xRaRozzJZVLeAvwiJn4wqZXYkQilojw4H0pNwSIMGJtnbP4LhotT2x37vjnxuqA5EHIEtoVYI9NebHCLDCRHmQfBYzRq0EGtNuEQ7FJM91oVGJGHIpDaVfCPxNoE7gJEDOxvMnxTKNOsHS6qCJyDQJE3+HxTca3Ggm9FpJB/FbvFgBvsZw59c06p9ol2FzYkwDEgTb8vDjPHkmB6NtRQI9FpMWqNxSTlaMJG8cY3fRFh0kyC9g2hBbwBGctvkfPeniojFRELpDSIdieyZGGBaMW1P+myCiNJkFzmG4kcrTFuR81SKi41FRK37RtAlvZdhO+Z2Qfju3BdOkyP2cbzeR3db+V6caw1ERM9+kTYU4huc3MbQ5CfkhLtIAFmk3mf4zGR9XD8fGk1EJqII31NJ3NZ/za2ff5LfSV5jC0CRfORIxHtWtMZ/Wg1EJqIJn1q8SKbZl1icxbDebZnySqlbSMLoptxADDDpkk3sSMhO+6rNRCanNFeadJ0uP2LMwO0Li8uz3cOaH7RpQgGkw2u6Y3ndO8AHxXoOqJbqigjbpFctOKmGumBBxWwkz5whfXq5CnPZkyMy0E773keG/dS6qlOqIJXVq29g3ZXIsZOd4tZPJMXzWGogL0GkoCVxcgLkHOKAlcX80Beg+jJOnfsn/wALvkuXKg9F7DP4W/Jce2O53+xauQbVzHf+hXb/AAXLlQa1cuUHLVy5ASxcuRatC1cuRGrQuXIOXLlyDShXLkHFYVy5ECsK1cihCFcuQCUIXLkAFC5cuQYsK5cgxYVy5Asrly5B/9k='\n",
    "filename = 'example1.txt'\n",
    "#filename = \"ngon.png\"\n",
    "urllib.request.urlretrieve(url,filename)"
   ]
  },
  {
   "cell_type": "code",
   "execution_count": 20,
   "metadata": {
    "colab": {
     "base_uri": "https://localhost:8080/"
    },
    "executionInfo": {
     "elapsed": 384,
     "status": "ok",
     "timestamp": 1713450032956,
     "user": {
      "displayName": "Thuong Nguyen",
      "userId": "15761428704342795780"
     },
     "user_tz": -420
    },
    "id": "yF9yXwAVe7Ps",
    "outputId": "fa1d65e2-a212-47fc-98e0-cf68963409d6"
   },
   "outputs": [
    {
     "name": "stderr",
     "output_type": "stream",
     "text": [
      "'wget' is not recognized as an internal or external command,\n",
      "operable program or batch file.\n"
     ]
    }
   ],
   "source": [
    "# Download Example file\n",
    "!wget -0 /resources/data/hehe.te https://cfdata.s3.us.cloud-object-storage.appdomain.cloud/IBMDeveloperSkillsNetwork-PY0101EN-SkillsNetwork/labs/Module%204/data/example1.txt\n",
    "\n",
    "\n",
    "#!wget -O /resources/data/Example1.txt https://cf-courses-data.s3.us.cloud-object-storage.appdomain.cloud/IBMDeveloperSkillsNetwork-PY0101EN-SkillsNetwork/labs/Module%204/data/example1.txt"
   ]
  },
  {
   "cell_type": "code",
   "execution_count": null,
   "metadata": {
    "id": "e8Jw_pKEe7Ps"
   },
   "outputs": [],
   "source": []
  },
  {
   "cell_type": "markdown",
   "metadata": {
    "id": "HUi_fA96e7Ps"
   },
   "source": [
    "<hr>\n"
   ]
  },
  {
   "cell_type": "markdown",
   "metadata": {
    "id": "xEpRcExRe7Pt"
   },
   "source": [
    "<h2 id=\"read\">Đọc Tệp tin Văn bản</h2>\n"
   ]
  },
  {
   "cell_type": "markdown",
   "metadata": {
    "id": "sbhMBJ5De7Pt"
   },
   "source": [
    "Có một cách để đọc hoặc ghi tệp trong Python là sử dụng hàm <code>open</code> tích hợp sẵn. Hàm <code>open</code> cung cấp một <b>đối tượng Tệp tin</b> chứa các phương thức và thuộc tính bạn cần để đọc, lưu và thao tác tệp. Trong notebook này, chúng ta sẽ chỉ trình bày các tệp <b>.txt</b>. Tham số đầu tiên bạn cần là đường dẫn tệp và tên tệp. Ví dụ như sau:\n"
   ]
  },
  {
   "cell_type": "markdown",
   "metadata": {
    "id": "hniT-UWAe7Pu"
   },
   "source": [
    "<img src=\"https://cf-courses-data.s3.us.cloud-object-storage.appdomain.cloud/IBMDeveloperSkillsNetwork-PY0101EN-SkillsNetwork/labs/Module%204/images/ReadOpen.png\" width=\"500\" />\n"
   ]
  },
  {
   "cell_type": "markdown",
   "metadata": {
    "id": "npFiWxdde7Pu"
   },
   "source": [
    "Đối số mode là tùy chọn và giá trị mặc định là <b>r</b>. Trong notebook này, chúng ta chỉ đề cập đến hai mode:\n",
    "\n",
    "<ul>\n",
    "    <li><b>r</b> Read mode để đọc các tệp tin </li>\n",
    "    <li><b>w</b> Write mode để ghi các tệp tin </li>\n",
    "</ul>\n"
   ]
  },
  {
   "cell_type": "markdown",
   "metadata": {
    "id": "6Gxea4KFe7Pu"
   },
   "source": [
    "Đối với ví dụ tiếp theo, chúng ta sẽ sử dụng tệp văn bản <b>Example1.txt</b>. Tệp được hiển thị như sau:\n"
   ]
  },
  {
   "cell_type": "markdown",
   "metadata": {
    "id": "RKpRsvl_e7Pv"
   },
   "source": [
    "<img src=\"https://cf-courses-data.s3.us.cloud-object-storage.appdomain.cloud/IBMDeveloperSkillsNetwork-PY0101EN-SkillsNetwork/labs/Module%204/images/ReadFile.png\" width=\"100\" />\n"
   ]
  },
  {
   "cell_type": "markdown",
   "metadata": {
    "id": "HHMg7euee7Pv"
   },
   "source": [
    "Ta đọc tệp tin:\n"
   ]
  },
  {
   "cell_type": "code",
   "execution_count": 38,
   "metadata": {
    "executionInfo": {
     "elapsed": 546,
     "status": "ok",
     "timestamp": 1713450040582,
     "user": {
      "displayName": "Thuong Nguyen",
      "userId": "15761428704342795780"
     },
     "user_tz": -420
    },
    "id": "Uzv8mjgQe7Pv"
   },
   "outputs": [],
   "source": [
    "# Read the Example1.txt\n",
    "\n",
    "example1 = \"Example1.txt\"\n",
    "hehe = \"ngon.png\"\n",
    "file2= open(hehe,\"r\")\n",
    "file1 = open(example1, \"r\")"
   ]
  },
  {
   "cell_type": "markdown",
   "metadata": {
    "id": "6BNPGRUme7Pw"
   },
   "source": [
    "Ta có thể xem các thuộc tính của tệp tin:\n"
   ]
  },
  {
   "cell_type": "markdown",
   "metadata": {
    "id": "2kWmIiTYe7Pw"
   },
   "source": [
    "Tên của tệp tin:\n"
   ]
  },
  {
   "cell_type": "code",
   "execution_count": 27,
   "metadata": {
    "colab": {
     "base_uri": "https://localhost:8080/",
     "height": 35
    },
    "executionInfo": {
     "elapsed": 8,
     "status": "ok",
     "timestamp": 1713450043243,
     "user": {
      "displayName": "Thuong Nguyen",
      "userId": "15761428704342795780"
     },
     "user_tz": -420
    },
    "id": "euuxHVKje7Pw",
    "outputId": "f1523681-f8b2-4caa-da2f-83c4b4277411"
   },
   "outputs": [
    {
     "data": {
      "text/plain": [
       "'ngon.png'"
      ]
     },
     "execution_count": 27,
     "metadata": {},
     "output_type": "execute_result"
    }
   ],
   "source": [
    "# Print the path of file\n",
    "\n",
    "file1.name\n",
    "file2.name"
   ]
  },
  {
   "cell_type": "markdown",
   "metadata": {
    "id": "QVD0Xx8Oe7Px"
   },
   "source": [
    "Đối tượng tệp tin ở trong mode nào:\n"
   ]
  },
  {
   "cell_type": "code",
   "execution_count": 28,
   "metadata": {
    "colab": {
     "base_uri": "https://localhost:8080/",
     "height": 35
    },
    "executionInfo": {
     "elapsed": 4,
     "status": "ok",
     "timestamp": 1713450046224,
     "user": {
      "displayName": "Thuong Nguyen",
      "userId": "15761428704342795780"
     },
     "user_tz": -420
    },
    "id": "tA64vt3je7Px",
    "outputId": "6d912765-61e1-498c-ce3a-f8970ebcbbb7"
   },
   "outputs": [
    {
     "data": {
      "text/plain": [
       "'r'"
      ]
     },
     "execution_count": 28,
     "metadata": {},
     "output_type": "execute_result"
    }
   ],
   "source": [
    "# Print the mode of file, either 'r' or 'w'\n",
    "\n",
    "file1.mode\n",
    "file2.mode\n"
   ]
  },
  {
   "cell_type": "markdown",
   "metadata": {
    "id": "rRx2DZdWe7Py"
   },
   "source": [
    "Ta có thể đọc một tệp tin và gán nó với một biến:\n"
   ]
  },
  {
   "cell_type": "code",
   "execution_count": 31,
   "metadata": {
    "colab": {
     "base_uri": "https://localhost:8080/",
     "height": 35
    },
    "executionInfo": {
     "elapsed": 5,
     "status": "ok",
     "timestamp": 1713450049173,
     "user": {
      "displayName": "Thuong Nguyen",
      "userId": "15761428704342795780"
     },
     "user_tz": -420
    },
    "id": "MH8F0n28e7Py",
    "outputId": "8c049c4c-bc61-474f-e757-d8a83ba92717"
   },
   "outputs": [
    {
     "data": {
      "text/plain": [
       "''"
      ]
     },
     "execution_count": 31,
     "metadata": {},
     "output_type": "execute_result"
    }
   ],
   "source": [
    "# Read the file\n",
    "\n",
    "# FileContent = file1.read()\n",
    "# FileContent\n",
    "filehehe = file2.read()\n",
    "filehehe"
   ]
  },
  {
   "cell_type": "markdown",
   "metadata": {
    "id": "HNEFsQnIe7Py"
   },
   "source": [
    "<b>/n</b> có nghĩa là có một dòng mới.\n"
   ]
  },
  {
   "cell_type": "markdown",
   "metadata": {
    "id": "Y6dSO_1Te7Pz"
   },
   "source": [
    "Chúng ta có thể in tệp:\n"
   ]
  },
  {
   "cell_type": "code",
   "execution_count": 32,
   "metadata": {
    "colab": {
     "base_uri": "https://localhost:8080/"
    },
    "executionInfo": {
     "elapsed": 4,
     "status": "ok",
     "timestamp": 1713450051757,
     "user": {
      "displayName": "Thuong Nguyen",
      "userId": "15761428704342795780"
     },
     "user_tz": -420
    },
    "id": "5wyrYlOie7Pz",
    "outputId": "a3959eab-b404-46d6-d5ef-097fbded25b2"
   },
   "outputs": [
    {
     "name": "stdout",
     "output_type": "stream",
     "text": [
      "\n",
      "\n"
     ]
    }
   ],
   "source": [
    "# Print the file with '\\n' as a new line\n",
    "\n",
    "print(FileContent)\n",
    "print(filehehe)"
   ]
  },
  {
   "cell_type": "markdown",
   "metadata": {
    "id": "G8F2e0WMe7Pz"
   },
   "source": [
    "Tệp thuộc type string:\n"
   ]
  },
  {
   "cell_type": "code",
   "execution_count": 33,
   "metadata": {
    "colab": {
     "base_uri": "https://localhost:8080/"
    },
    "executionInfo": {
     "elapsed": 3,
     "status": "ok",
     "timestamp": 1713450054621,
     "user": {
      "displayName": "Thuong Nguyen",
      "userId": "15761428704342795780"
     },
     "user_tz": -420
    },
    "id": "acJUjWJHe7P0",
    "outputId": "d2c2547e-539c-44bd-8938-ed311d7ff0d5"
   },
   "outputs": [
    {
     "data": {
      "text/plain": [
       "str"
      ]
     },
     "execution_count": 33,
     "metadata": {},
     "output_type": "execute_result"
    }
   ],
   "source": [
    "# Type of file content\n",
    "\n",
    "type(FileContent)\n",
    "type(hehe)"
   ]
  },
  {
   "cell_type": "markdown",
   "metadata": {
    "id": "1BkPTLjSe7P0"
   },
   "source": [
    "Điều rất quan trọng là tệp cần được đóng khi kết thúc. Điều này giải phóng tài nguyên và đảm bảo tính nhất quán trên các phiên bản python khác nhau."
   ]
  },
  {
   "cell_type": "code",
   "execution_count": 34,
   "metadata": {
    "executionInfo": {
     "elapsed": 4,
     "status": "ok",
     "timestamp": 1713450057126,
     "user": {
      "displayName": "Thuong Nguyen",
      "userId": "15761428704342795780"
     },
     "user_tz": -420
    },
    "id": "pJSaOo_Me7P1"
   },
   "outputs": [],
   "source": [
    "# Close file after finish\n",
    "\n",
    "file1.close()\n",
    "file2.close()"
   ]
  },
  {
   "cell_type": "markdown",
   "metadata": {
    "id": "hMRg4OQye7P1"
   },
   "source": [
    "<hr>\n"
   ]
  },
  {
   "cell_type": "markdown",
   "metadata": {
    "id": "6-lQVfZce7P1"
   },
   "source": [
    "<h2 id=\"better\">Cách tốt hơn để mở một tệp tin</h2>\n"
   ]
  },
  {
   "cell_type": "markdown",
   "metadata": {
    "id": "QiJ-iomle7P1"
   },
   "source": [
    "Cách tốt hơn là sử dụng câu lệnh <code>with</code>, nó sẽ tự động đóng tệp ngay cả khi code gặp phải một ngoại lệ. Code sẽ chạy mọi thứ trong khối thụt lề sau đó đóng đối tượng tệp.\n"
   ]
  },
  {
   "cell_type": "code",
   "execution_count": 39,
   "metadata": {
    "colab": {
     "base_uri": "https://localhost:8080/"
    },
    "executionInfo": {
     "elapsed": 363,
     "status": "ok",
     "timestamp": 1713450061400,
     "user": {
      "displayName": "Thuong Nguyen",
      "userId": "15761428704342795780"
     },
     "user_tz": -420
    },
    "id": "1UE_mnICe7P2",
    "outputId": "6dbcfe95-6314-49e4-f06c-17dfb4448ca0"
   },
   "outputs": [
    {
     "name": "stdout",
     "output_type": "stream",
     "text": [
      "This is line 1 \n",
      "This is line 2\n",
      "This is line 3\n"
     ]
    },
    {
     "ename": "UnicodeDecodeError",
     "evalue": "'charmap' codec can't decode byte 0x81 in position 240: character maps to <undefined>",
     "output_type": "error",
     "traceback": [
      "\u001b[1;31m---------------------------------------------------------------------------\u001b[0m",
      "\u001b[1;31mUnicodeDecodeError\u001b[0m                        Traceback (most recent call last)",
      "Cell \u001b[1;32mIn[39], line 7\u001b[0m\n\u001b[0;32m      5\u001b[0m     \u001b[38;5;28mprint\u001b[39m(FileContent)\n\u001b[0;32m      6\u001b[0m \u001b[38;5;28;01mwith\u001b[39;00m \u001b[38;5;28mopen\u001b[39m(hehe,\u001b[38;5;124m\"\u001b[39m\u001b[38;5;124mr\u001b[39m\u001b[38;5;124m\"\u001b[39m)\u001b[38;5;28;01mas\u001b[39;00m file2:\n\u001b[1;32m----> 7\u001b[0m     filehehe \u001b[38;5;241m=\u001b[39m file2\u001b[38;5;241m.\u001b[39mread()\n\u001b[0;32m      8\u001b[0m     \u001b[38;5;28mprint\u001b[39m(filehehe)\n",
      "File \u001b[1;32m~\\anaconda3\\Lib\\encodings\\cp1252.py:23\u001b[0m, in \u001b[0;36mIncrementalDecoder.decode\u001b[1;34m(self, input, final)\u001b[0m\n\u001b[0;32m     22\u001b[0m \u001b[38;5;28;01mdef\u001b[39;00m \u001b[38;5;21mdecode\u001b[39m(\u001b[38;5;28mself\u001b[39m, \u001b[38;5;28minput\u001b[39m, final\u001b[38;5;241m=\u001b[39m\u001b[38;5;28;01mFalse\u001b[39;00m):\n\u001b[1;32m---> 23\u001b[0m     \u001b[38;5;28;01mreturn\u001b[39;00m codecs\u001b[38;5;241m.\u001b[39mcharmap_decode(\u001b[38;5;28minput\u001b[39m,\u001b[38;5;28mself\u001b[39m\u001b[38;5;241m.\u001b[39merrors,decoding_table)[\u001b[38;5;241m0\u001b[39m]\n",
      "\u001b[1;31mUnicodeDecodeError\u001b[0m: 'charmap' codec can't decode byte 0x81 in position 240: character maps to <undefined>"
     ]
    }
   ],
   "source": [
    "# Open file using with\n",
    "\n",
    "with open(example1, \"r\") as file1:\n",
    "    FileContent = file1.read()\n",
    "    print(FileContent)\n",
    "with open(hehe,\"r\")as file2:\n",
    "    filehehe = file2.read()\n",
    "    print(filehehe)"
   ]
  },
  {
   "cell_type": "markdown",
   "metadata": {
    "id": "gW81SjNMe7P2"
   },
   "source": [
    "Đối tượng tệp đã bị đóng, bạn có thể xác minh nó bằng cách chạy ô sau:  \n"
   ]
  },
  {
   "cell_type": "code",
   "execution_count": 11,
   "metadata": {
    "colab": {
     "base_uri": "https://localhost:8080/"
    },
    "executionInfo": {
     "elapsed": 379,
     "status": "ok",
     "timestamp": 1713450064983,
     "user": {
      "displayName": "Thuong Nguyen",
      "userId": "15761428704342795780"
     },
     "user_tz": -420
    },
    "id": "ONKSN_dde7P2",
    "outputId": "79b0b22a-c2b8-4067-b0c5-3baedf180cc9"
   },
   "outputs": [
    {
     "data": {
      "text/plain": [
       "True"
      ]
     },
     "execution_count": 11,
     "metadata": {},
     "output_type": "execute_result"
    }
   ],
   "source": [
    "# Verify if the file is closed\n",
    "\n",
    "file1.closed"
   ]
  },
  {
   "cell_type": "markdown",
   "metadata": {
    "id": "tN6gJWu9e7P2"
   },
   "source": [
    "Chúng ta có thể thấy thông tin trong tệp tin:"
   ]
  },
  {
   "cell_type": "code",
   "execution_count": 12,
   "metadata": {
    "colab": {
     "base_uri": "https://localhost:8080/"
    },
    "executionInfo": {
     "elapsed": 1000,
     "status": "ok",
     "timestamp": 1713451831832,
     "user": {
      "displayName": "Thuong Nguyen",
      "userId": "15761428704342795780"
     },
     "user_tz": -420
    },
    "id": "JbhCT4U8e7P3",
    "outputId": "2388467d-ab93-42b8-910f-76df10fd4fcb"
   },
   "outputs": [
    {
     "name": "stdout",
     "output_type": "stream",
     "text": [
      "This is line 1 \n",
      "This is line 2\n",
      "This is line 3\n"
     ]
    }
   ],
   "source": [
    "# See the content of file\n",
    "\n",
    "print(FileContent)"
   ]
  },
  {
   "cell_type": "markdown",
   "metadata": {
    "id": "t0DNhabOe7P3"
   },
   "source": [
    "Cú pháp hơi khó hiểu vì đối tượng tệp nằm sau câu lệnh <code>as</code>. Chúng ta cũng không đóng tệp một cách rõ ràng. Do đó, chúng ta tóm tắt các bước trong hình:\n"
   ]
  },
  {
   "cell_type": "markdown",
   "metadata": {
    "id": "ZhWjSI3pe7P4"
   },
   "source": [
    "<img src=\"https://cf-courses-data.s3.us.cloud-object-storage.appdomain.cloud/IBMDeveloperSkillsNetwork-PY0101EN-SkillsNetwork/labs/Module%204/images/ReadWith.png\" width=\"500\" />\n"
   ]
  },
  {
   "cell_type": "markdown",
   "metadata": {
    "id": "DweXJERxe7P5"
   },
   "source": [
    "Ví dụ: chúng ta không phải đọc toàn bộ tệp, có thể đọc 4 ký tự đầu tiên bằng cách nhập 3 ký tự làm tham số cho phương thức**.read()**:\n"
   ]
  },
  {
   "cell_type": "code",
   "execution_count": 13,
   "metadata": {
    "colab": {
     "base_uri": "https://localhost:8080/"
    },
    "executionInfo": {
     "elapsed": 397,
     "status": "ok",
     "timestamp": 1713451836011,
     "user": {
      "displayName": "Thuong Nguyen",
      "userId": "15761428704342795780"
     },
     "user_tz": -420
    },
    "id": "Zb74auWve7P5",
    "outputId": "a010a4cb-c769-4946-91ba-443fcc866003"
   },
   "outputs": [
    {
     "name": "stdout",
     "output_type": "stream",
     "text": [
      "This\n"
     ]
    }
   ],
   "source": [
    "# Read first four characters\n",
    "\n",
    "with open(example1, \"r\") as file1:\n",
    "    print(file1.read(4))"
   ]
  },
  {
   "cell_type": "markdown",
   "metadata": {
    "id": "ARnytw4je7P6"
   },
   "source": [
    "Khi phương thức <code>.read(4)</code> được gọi, 4 ký tự đầu tiên được gọi. Nếu chúng ta gọi lại phương thức, 4 ký tự tiếp theo sẽ được gọi. Đầu ra cho ô sau sẽ minh họa quy trình cho các đầu vào khác nhau cho phương thức <code>read()</code>:"
   ]
  },
  {
   "cell_type": "code",
   "execution_count": 14,
   "metadata": {
    "colab": {
     "base_uri": "https://localhost:8080/"
    },
    "executionInfo": {
     "elapsed": 3,
     "status": "ok",
     "timestamp": 1713451839122,
     "user": {
      "displayName": "Thuong Nguyen",
      "userId": "15761428704342795780"
     },
     "user_tz": -420
    },
    "id": "XmWF31P7e7P6",
    "outputId": "1fb12528-b6fd-40c9-e4af-4dc69546acb2"
   },
   "outputs": [
    {
     "name": "stdout",
     "output_type": "stream",
     "text": [
      "This\n",
      " is \n",
      "line 1 \n",
      "\n",
      "This is line 2\n"
     ]
    }
   ],
   "source": [
    "# Read certain amount of characters\n",
    "\n",
    "with open(example1, \"r\") as file1:\n",
    "    print(file1.read(4))\n",
    "    print(file1.read(4))\n",
    "    print(file1.read(7))\n",
    "    print(file1.read(15))"
   ]
  },
  {
   "cell_type": "markdown",
   "metadata": {
    "id": "_SDAYgCAe7P6"
   },
   "source": [
    "Quá trình này được minh họa trong hình bên dưới và mỗi màu đại diện cho phần của tệp được đọc sau khi phương thức <code>read()</code> được gọi:\n"
   ]
  },
  {
   "cell_type": "markdown",
   "metadata": {
    "id": "Y95SfzzDe7P7"
   },
   "source": [
    "<img src=\"https://cf-courses-data.s3.us.cloud-object-storage.appdomain.cloud/IBMDeveloperSkillsNetwork-PY0101EN-SkillsNetwork/labs/Module%204/images/read.png\" width=\"500\" />\n"
   ]
  },
  {
   "cell_type": "markdown",
   "metadata": {
    "id": "8S7L21Ske7P7"
   },
   "source": [
    "Dưới đây là một ví dụ sử dụng cùng một tệp, nhưng thay vào đó chúng ta đọc 16, 5 và 9 ký tự cùng một lúc:\n"
   ]
  },
  {
   "cell_type": "code",
   "execution_count": 15,
   "metadata": {
    "colab": {
     "base_uri": "https://localhost:8080/"
    },
    "executionInfo": {
     "elapsed": 506,
     "status": "ok",
     "timestamp": 1713451843974,
     "user": {
      "displayName": "Thuong Nguyen",
      "userId": "15761428704342795780"
     },
     "user_tz": -420
    },
    "id": "3NaPrNMNe7P7",
    "outputId": "78e07ec0-1378-4111-e887-441a1cc9d9e6"
   },
   "outputs": [
    {
     "name": "stdout",
     "output_type": "stream",
     "text": [
      "This is line 1 \n",
      "\n",
      "This \n",
      "is line 2\n"
     ]
    }
   ],
   "source": [
    "# Read certain amount of characters\n",
    "\n",
    "with open(example1, \"r\") as file1:\n",
    "    print(file1.read(16))\n",
    "    print(file1.read(5))\n",
    "    print(file1.read(9))"
   ]
  },
  {
   "cell_type": "markdown",
   "metadata": {
    "id": "2dgeNAXpe7P7"
   },
   "source": [
    "Chúng ta cũng có thể đọc từng dòng của tệp bằng phương thức <code>readline()</code>:\n"
   ]
  },
  {
   "cell_type": "code",
   "execution_count": 16,
   "metadata": {
    "colab": {
     "base_uri": "https://localhost:8080/"
    },
    "executionInfo": {
     "elapsed": 411,
     "status": "ok",
     "timestamp": 1713451846885,
     "user": {
      "displayName": "Thuong Nguyen",
      "userId": "15761428704342795780"
     },
     "user_tz": -420
    },
    "id": "k2YaGyo-e7P8",
    "outputId": "015d9720-f098-4996-c4da-681687b1927d"
   },
   "outputs": [
    {
     "name": "stdout",
     "output_type": "stream",
     "text": [
      "first line: This is line 1 \n",
      "\n"
     ]
    }
   ],
   "source": [
    "# Read one line\n",
    "\n",
    "with open(example1, \"r\") as file1:\n",
    "    print(\"first line: \" + file1.readline())"
   ]
  },
  {
   "cell_type": "markdown",
   "metadata": {
    "id": "la71fLQqe7P8"
   },
   "source": [
    "Chúng ta cũng có thể chuyển một đối số tới <code> readline()</code> để chỉ định số ký tự mà chúng ta muốn đọc. Tuy nhiên, không giống như <code> read()</code>, <code> readline()</code> chỉ có thể đọc tối đa một dòng.\n"
   ]
  },
  {
   "cell_type": "code",
   "execution_count": 17,
   "metadata": {
    "colab": {
     "base_uri": "https://localhost:8080/"
    },
    "executionInfo": {
     "elapsed": 615,
     "status": "ok",
     "timestamp": 1713451850905,
     "user": {
      "displayName": "Thuong Nguyen",
      "userId": "15761428704342795780"
     },
     "user_tz": -420
    },
    "id": "amhB23_8e7P8",
    "outputId": "62b33816-1951-4795-8a69-317786a349ef"
   },
   "outputs": [
    {
     "name": "stdout",
     "output_type": "stream",
     "text": [
      "This is line 1 \n",
      "\n",
      "This is line 2\n",
      "This \n"
     ]
    }
   ],
   "source": [
    "with open(example1, \"r\") as file1:\n",
    "    print(file1.readline(20)) # does not read past the end of line\n",
    "    print(file1.read(20)) # Returns the next 20 chars\n"
   ]
  },
  {
   "cell_type": "markdown",
   "metadata": {
    "id": "zg8F4X8Me7P9"
   },
   "source": [
    "Chúng ta có thể sử dụng một vòng lặp để lặp lại qua từng dòng:\n"
   ]
  },
  {
   "cell_type": "code",
   "execution_count": 18,
   "metadata": {
    "colab": {
     "base_uri": "https://localhost:8080/"
    },
    "executionInfo": {
     "elapsed": 453,
     "status": "ok",
     "timestamp": 1713451853744,
     "user": {
      "displayName": "Thuong Nguyen",
      "userId": "15761428704342795780"
     },
     "user_tz": -420
    },
    "id": "uoG26jnDe7P9",
    "outputId": "1febe342-0068-44e3-aff9-8fac85554695"
   },
   "outputs": [
    {
     "name": "stdout",
     "output_type": "stream",
     "text": [
      "Iteration 0 :  This is line 1 \n",
      "\n",
      "Iteration 1 :  This is line 2\n",
      "\n",
      "Iteration 2 :  This is line 3\n"
     ]
    }
   ],
   "source": [
    "# Iterate through the lines\n",
    "\n",
    "with open(example1,\"r\") as file1:\n",
    "        i = 0;\n",
    "        for line in file1:\n",
    "            print(\"Iteration\", str(i), \": \", line)\n",
    "            i = i + 1"
   ]
  },
  {
   "cell_type": "markdown",
   "metadata": {
    "id": "tyckMOc_e7P-"
   },
   "source": [
    "Chúng ta có thể sử dụng phương thức <code>readlines()</code> để lưu tệp văn bản vào danh sách:\n"
   ]
  },
  {
   "cell_type": "code",
   "execution_count": 19,
   "metadata": {
    "executionInfo": {
     "elapsed": 2,
     "status": "ok",
     "timestamp": 1713451856626,
     "user": {
      "displayName": "Thuong Nguyen",
      "userId": "15761428704342795780"
     },
     "user_tz": -420
    },
    "id": "Nd5l_BnGe7P-"
   },
   "outputs": [],
   "source": [
    "# Read all lines and save as a list\n",
    "\n",
    "with open(example1, \"r\") as file1:\n",
    "    FileasList = file1.readlines()"
   ]
  },
  {
   "cell_type": "markdown",
   "metadata": {
    "id": "yx9D79UGe7P-"
   },
   "source": [
    "Mỗi phần tử của danh sách tương ứng với một dòng văn bản:\n"
   ]
  },
  {
   "cell_type": "code",
   "execution_count": 20,
   "metadata": {
    "colab": {
     "base_uri": "https://localhost:8080/",
     "height": 35
    },
    "executionInfo": {
     "elapsed": 8,
     "status": "ok",
     "timestamp": 1713451859552,
     "user": {
      "displayName": "Thuong Nguyen",
      "userId": "15761428704342795780"
     },
     "user_tz": -420
    },
    "id": "1KcZwrcue7P-",
    "outputId": "42310a18-d309-4b42-eeda-11c28474f9c4"
   },
   "outputs": [
    {
     "data": {
      "application/vnd.google.colaboratory.intrinsic+json": {
       "type": "string"
      },
      "text/plain": [
       "'This is line 1 \\n'"
      ]
     },
     "execution_count": 20,
     "metadata": {},
     "output_type": "execute_result"
    }
   ],
   "source": [
    "# Print the first line\n",
    "\n",
    "FileasList[0]"
   ]
  },
  {
   "cell_type": "markdown",
   "metadata": {
    "id": "ql1tttp6e7P_"
   },
   "source": [
    "# In dòng thứ hai\n",
    "\n",
    "FileasList[1]\n"
   ]
  },
  {
   "cell_type": "code",
   "execution_count": 21,
   "metadata": {
    "colab": {
     "base_uri": "https://localhost:8080/",
     "height": 35
    },
    "executionInfo": {
     "elapsed": 423,
     "status": "ok",
     "timestamp": 1713451868594,
     "user": {
      "displayName": "Thuong Nguyen",
      "userId": "15761428704342795780"
     },
     "user_tz": -420
    },
    "id": "Si6-UeWwe7P_",
    "outputId": "98aa7ff8-7929-4a3a-fb4e-b127a9f0d01d"
   },
   "outputs": [
    {
     "data": {
      "application/vnd.google.colaboratory.intrinsic+json": {
       "type": "string"
      },
      "text/plain": [
       "'This is line 3'"
      ]
     },
     "execution_count": 21,
     "metadata": {},
     "output_type": "execute_result"
    }
   ],
   "source": [
    "# Print the third line\n",
    "\n",
    "FileasList[2]"
   ]
  },
  {
   "cell_type": "markdown",
   "metadata": {
    "id": "Lf8soMEPe7QA"
   },
   "source": [
    "<hr>\n",
    "Nguồn: IBM\n",
    "<hr>"
   ]
  }
 ],
 "metadata": {
  "colab": {
   "collapsed_sections": [
    "ql1tttp6e7P_",
    "QREp0ieMe7QA"
   ],
   "provenance": []
  },
  "kernelspec": {
   "display_name": "Python 3 (ipykernel)",
   "language": "python",
   "name": "python3"
  },
  "language_info": {
   "codemirror_mode": {
    "name": "ipython",
    "version": 3
   },
   "file_extension": ".py",
   "mimetype": "text/x-python",
   "name": "python",
   "nbconvert_exporter": "python",
   "pygments_lexer": "ipython3",
   "version": "3.11.7"
  }
 },
 "nbformat": 4,
 "nbformat_minor": 4
}
