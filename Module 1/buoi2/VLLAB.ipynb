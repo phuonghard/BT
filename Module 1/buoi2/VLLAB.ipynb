{
 "cells": [
  {
   "cell_type": "code",
   "execution_count": 9,
   "id": "12fc0e48-154f-42f5-ba2c-ec97699bfa34",
   "metadata": {},
   "outputs": [
    {
     "name": "stdout",
     "output_type": "stream",
     "text": [
      "5\n",
      "[[2 3 4]\n",
      " [1 2 5]]\n"
     ]
    }
   ],
   "source": [
    "import numpy as np\n",
    "\n",
    "a = np.array([[1,2,3],[0,1,4]])\n",
    "b = np.zeros((2,3), dtype=np.int64)\n",
    "c = np.ones((2,3), dtype = np.int16)\n",
    "d = a +b+c\n",
    "print(d[1,2])\n",
    "\n",
    "print(d)"
   ]
  },
  {
   "cell_type": "code",
   "execution_count": 10,
   "id": "74d8f128-f64b-49fb-8ca0-51a6a8cd12a9",
   "metadata": {},
   "outputs": [
    {
     "name": "stdout",
     "output_type": "stream",
     "text": [
      "11\n"
     ]
    }
   ],
   "source": [
    "import numpy as np\n",
    "a= np.array([[0,1,0],[1,0,1]])\n",
    "a+=3\n",
    "b = a+3\n",
    "print(a[1,2] +b[1,2])"
   ]
  },
  {
   "cell_type": "code",
   "execution_count": null,
   "id": "39bf6bc5-57c5-47e1-aebd-b03ab6540b50",
   "metadata": {},
   "outputs": [],
   "source": [
    "import numpy as np\n",
    "a = np.array([[3,6,7],[5,-3,0]])\n",
    "b= np.array([[1,1],[2,1],[3,-4]])\n",
    "c = mp.dot(a,b)\n",
    "print(c)"
   ]
  },
  {
   "cell_type": "code",
   "execution_count": 12,
   "id": "3d32e375-6e82-45e2-a24c-7832f4e7c886",
   "metadata": {},
   "outputs": [
    {
     "name": "stdout",
     "output_type": "stream",
     "text": [
      "[[[[[0. 0. 0.]\n",
      "    [0. 0. 0.]\n",
      "    [0. 0. 0.]\n",
      "    [0. 0. 0.]\n",
      "    [0. 0. 0.]]\n",
      "\n",
      "   [[0. 0. 0.]\n",
      "    [0. 0. 0.]\n",
      "    [0. 0. 0.]\n",
      "    [0. 0. 0.]\n",
      "    [0. 0. 0.]]]]\n",
      "\n",
      "\n",
      "\n",
      " [[[[0. 0. 0.]\n",
      "    [0. 0. 0.]\n",
      "    [0. 0. 0.]\n",
      "    [0. 0. 0.]\n",
      "    [0. 0. 0.]]\n",
      "\n",
      "   [[0. 0. 0.]\n",
      "    [0. 0. 0.]\n",
      "    [0. 0. 0.]\n",
      "    [0. 0. 0.]\n",
      "    [0. 0. 0.]]]]]\n"
     ]
    }
   ],
   "source": [
    "import numpy as np\n",
    "\n",
    "# Tạo một mảng 5 chiều có kích thước (2, 3, 4, 5, 3)\n",
    "arr_5d = np.zeros((2, 1, 2, 5, 3))\n",
    "print(arr_5d)\n"
   ]
  },
  {
   "cell_type": "code",
   "execution_count": 14,
   "id": "fa171624-2768-4006-93ee-24df1e0e8ea1",
   "metadata": {},
   "outputs": [
    {
     "name": "stdout",
     "output_type": "stream",
     "text": [
      "[2 3 4 5]\n",
      "[ 5 12 21 32]\n"
     ]
    }
   ],
   "source": [
    "import numpy as np\n",
    "\n",
    "# Định nghĩa hai vector\n",
    "v1 = np.array([1, 2, 3, 4])\n",
    "print(v1+1)\n",
    "v2 = np.array([5, 6, 7, 8])\n",
    "print(v1*v2)"
   ]
  },
  {
   "cell_type": "code",
   "execution_count": null,
   "id": "b538da7e-1767-40ff-94e4-8265196fa3a5",
   "metadata": {},
   "outputs": [],
   "source": []
  }
 ],
 "metadata": {
  "kernelspec": {
   "display_name": "Python 3 (ipykernel)",
   "language": "python",
   "name": "python3"
  },
  "language_info": {
   "codemirror_mode": {
    "name": "ipython",
    "version": 3
   },
   "file_extension": ".py",
   "mimetype": "text/x-python",
   "name": "python",
   "nbconvert_exporter": "python",
   "pygments_lexer": "ipython3",
   "version": "3.11.7"
  }
 },
 "nbformat": 4,
 "nbformat_minor": 5
}
